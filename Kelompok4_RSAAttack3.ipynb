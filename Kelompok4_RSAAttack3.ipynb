{
 "cells": [
  {
   "cell_type": "markdown",
   "id": "f4cf0ae9",
   "metadata": {},
   "source": [
    "# 🔓 RSA Attack Level 3 – Reuse of Public Key with Small e\n",
    "\n",
    "Serangan ini terjadi ketika **pesan yang sama** dienkripsi ke beberapa penerima berbeda menggunakan eksponen kecil (e = 3). Jika `m^e < n1*n2*n3`, attacker bisa menggabungkan ciphertext dan mengambil akar ke-e untuk mendapatkan plaintext **tanpa private key**.\n",
    "\n",
    "📌 Teknik: Håstad’s Broadcast Attack + Chinese Remainder Theorem\n",
    "\n",
    "✅ Syarat:\n",
    "- e = 3\n",
    "- 3 modulus berbeda (coprime)\n",
    "- Pesan yang sama (tanpa padding)\n",
    "\n",
    "🎯 Tujuan: Mendapatkan plaintext dari ciphertext gabungan.\n"
   ]
  },
  {
   "cell_type": "code",
   "execution_count": 7,
   "id": "19a5e5a4",
   "metadata": {},
   "outputs": [],
   "source": [
    "from Crypto.Util.number import getPrime, bytes_to_long, long_to_bytes\n",
    "from functools import reduce\n",
    "import gmpy2\n",
    "\n",
    "# Fungsi Chinese Remainder Theorem (CRT)\n",
    "def crt(c_list, n_list):\n",
    "    N = reduce(lambda a, b: a * b, n_list)\n",
    "    total = 0\n",
    "    for c_i, n_i in zip(c_list, n_list):\n",
    "        m_i = N // n_i\n",
    "        inv = gmpy2.invert(m_i, n_i)\n",
    "        total += c_i * m_i * inv\n",
    "    return total % N\n"
   ]
  },
  {
   "cell_type": "code",
   "execution_count": 8,
   "id": "a6483965",
   "metadata": {},
   "outputs": [],
   "source": [
    "# Plaintext yang akan dienkripsi (bisa disesuaikan)\n",
    "plaintext = b\"Daffa Dimas Nova\"\n",
    "m = bytes_to_long(plaintext)  # Konversi ke integer\n",
    "e = 3  # Eksponen publik kecil\n",
    "\n",
    "# Fungsi untuk menghasilkan modulus RSA (n = p * q)\n",
    "def generate_modulus(bits=512):\n",
    "    return getPrime(bits) * getPrime(bits)\n"
   ]
  },
  {
   "cell_type": "code",
   "execution_count": 9,
   "id": "5714d64c",
   "metadata": {},
   "outputs": [],
   "source": [
    "# Generate 3 pasang modulus dan ciphertext\n",
    "n_list = [generate_modulus() for _ in range(3)]\n",
    "c_list = [pow(m, e, n) for n in n_list]\n",
    "\n",
    "# Gabungkan ciphertext menggunakan CRT\n",
    "c_combined = crt(c_list, n_list)\n",
    "\n",
    "# Ambil akar pangkat 3 dari hasil CRT\n",
    "recovered_m, exact = gmpy2.iroot(c_combined, e)\n",
    "recovered_text = long_to_bytes(recovered_m)\n"
   ]
  },
  {
   "cell_type": "code",
   "execution_count": 10,
   "id": "014885dd",
   "metadata": {},
   "outputs": [
    {
     "name": "stdout",
     "output_type": "stream",
     "text": [
      "===== Attack 3: Reuse Public Key with Small e (gmpy2) =====\n",
      "Modulus n1 = 156823168862889792249861983286094439097340925969493873776640113312941932681762653315008785151873218266239810994370110517332626984209872687098323806534470361551476727801316592598697394448932751046024271804204136967586743151808700444142767947111243597314843204536408893769440214650625860403255753137203707848303\n",
      "Ciphertext c1 = 750921708733871343535259110877586015283603368964208968626728870807915851311530807651019564503018616501443749334817\n",
      "Modulus n2 = 65339284529365972165163015090785401167486069555500292064635472647104229898366351099394133644019516909307117444920488829180933597650369702225119612037412332639678292434602255757247638214028131838868013500682006293626521121512870954110903790637731916613300644907210322372182056176009782231426665613963117066873\n",
      "Ciphertext c2 = 750921708733871343535259110877586015283603368964208968626728870807915851311530807651019564503018616501443749334817\n",
      "Modulus n3 = 88161668227429015042148374899282556091480401938260803840951862551155545175323940553287124247963753790835262705641485686147648457976866949788467786935403211074760840149170692921763110837056630497357510285700012417171524758877212145467050097431246455826059365083516546143166844253139892705903575701843773525917\n",
      "Ciphertext c3 = 750921708733871343535259110877586015283603368964208968626728870807915851311530807651019564503018616501443749334817\n",
      "\n",
      "Hasil gabungan CRT: 750921708733871343535259110877586015283603368964208968626728870807915851311530807651019564503018616501443749334817\n",
      "Akar pangkat 3 (recovered m): 90893233425763361207380825484850853473\n",
      "Teks hasil dekripsi: 'Daffa Dimas Nova'\n",
      "Berhasil? True\n"
     ]
    }
   ],
   "source": [
    "print(\"===== Attack 3: Reuse Public Key with Small e (gmpy2) =====\")\n",
    "for i in range(3):\n",
    "    print(f\"Modulus n{i+1} = {n_list[i]}\")\n",
    "    print(f\"Ciphertext c{i+1} = {c_list[i]}\")\n",
    "print(\"\\nHasil gabungan CRT:\", c_combined)\n",
    "print(f\"Akar pangkat 3 (recovered m): {recovered_m}\")\n",
    "print(f\"Teks hasil dekripsi: '{recovered_text.decode()}'\")\n",
    "print(f\"Berhasil? {recovered_text == plaintext}\")\n"
   ]
  }
 ],
 "metadata": {
  "kernelspec": {
   "display_name": ".venv",
   "language": "python",
   "name": "python3"
  },
  "language_info": {
   "codemirror_mode": {
    "name": "ipython",
    "version": 3
   },
   "file_extension": ".py",
   "mimetype": "text/x-python",
   "name": "python",
   "nbconvert_exporter": "python",
   "pygments_lexer": "ipython3",
   "version": "3.13.1"
  }
 },
 "nbformat": 4,
 "nbformat_minor": 5
}

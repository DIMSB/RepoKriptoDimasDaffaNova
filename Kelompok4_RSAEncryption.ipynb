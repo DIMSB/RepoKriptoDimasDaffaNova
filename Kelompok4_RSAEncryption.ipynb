{
 "cells": [
  {
   "cell_type": "markdown",
   "id": "0cd17606",
   "metadata": {},
   "source": [
    "# 🔐 RSA Encryption – Kelompok 4\n",
    "\n",
    "Notebook ini akan menjelaskan bagaimana proses enkripsi RSA bekerja.\n",
    "\n",
    "**Langkah-langkah utama:**\n",
    "1. Generate bilangan prima p dan q\n",
    "2. Hitung modulus n = p * q\n",
    "3. Hitung phi(n) = (p - 1)(q - 1)\n",
    "4. Pilih nilai e yang coprime dengan phi\n",
    "5. Hitung kunci privat d\n",
    "6. Enkripsi pesan dengan rumus: `c = m^e mod n`\n"
   ]
  },
  {
   "cell_type": "code",
   "execution_count": 37,
   "id": "884039ea",
   "metadata": {},
   "outputs": [],
   "source": [
    "# Import library yang dibutuhkan\n",
    "from sympy import isprime, mod_inverse  # isprime untuk cek bilangan prima, mod_inverse untuk cari d\n",
    "import random  # untuk generate angka acak\n"
   ]
  },
  {
   "cell_type": "code",
   "execution_count": 38,
   "id": "1c9be728",
   "metadata": {},
   "outputs": [],
   "source": [
    "# Fungsi untuk menghasilkan bilangan prima acak sebanyak 'bits' bit\n",
    "def generate_prime(bits=8):\n",
    "    while True:\n",
    "        # Generate angka acak antara 2^(bits-1) sampai 2^bits - 1\n",
    "        num = random.randint(2**(bits-1), 2**bits - 1)\n",
    "        # Cek apakah angka tersebut prima\n",
    "        if isprime(num):\n",
    "            return num  # jika prima, kembalikan angka tersebut\n"
   ]
  },
  {
   "cell_type": "code",
   "execution_count": 39,
   "id": "c2c0b134",
   "metadata": {},
   "outputs": [],
   "source": [
    "# Generate dua bilangan prima acak p dan q\n",
    "p = generate_prime()\n",
    "q = generate_prime()\n",
    "\n",
    "# Pastikan p dan q tidak sama (RSA mengharuskan dua bilangan prima berbeda)\n",
    "while q == p:\n",
    "    q = generate_prime()\n",
    "\n",
    "# Hitung modulus n dan fungsi totien phi\n",
    "n = p * q                     # n = p * q → modulus publik\n",
    "phi = (p - 1) * (q - 1)       # phi(n) = (p-1)(q-1) → digunakan untuk hitung kunci privat\n",
    "\n",
    "# Pilih nilai e yang relatif prima terhadap phi (umumnya mulai dari 3)\n",
    "e = 3\n",
    "while True:\n",
    "    try:\n",
    "        # Hitung kunci privat d, yaitu invers dari e terhadap phi\n",
    "        d = mod_inverse(e, phi)\n",
    "        break  # jika berhasil, keluar dari loop\n",
    "    except:\n",
    "        e += 2  # jika gagal (e tidak coprime dengan phi), coba nilai ganjil berikutnya\n"
   ]
  },
  {
   "cell_type": "code",
   "execution_count": 40,
   "id": "cf867fab",
   "metadata": {},
   "outputs": [
    {
     "name": "stdout",
     "output_type": "stream",
     "text": [
      "Bilangan prima p: 151\n",
      "Bilangan prima q: 173\n",
      "Modulus n: 26123\n",
      "Phi(n): 25800\n",
      "Kunci publik (e, n): (7, 26123)\n",
      "Kunci privat (d, n): (14743, 26123)\n",
      "e = 7\n",
      "n = 26123\n"
     ]
    }
   ],
   "source": [
    "# Tampilkan nilai-nilai kunci RSA yang dihasilkan\n",
    "print(\"Bilangan prima p:\", p)\n",
    "print(\"Bilangan prima q:\", q)\n",
    "print(\"Modulus n:\", n)\n",
    "print(\"Phi(n):\", phi)\n",
    "print(\"Kunci publik (e, n):\", (e, n))   # kunci publik untuk enkripsi\n",
    "print(\"Kunci privat (d, n):\", (d, n))   # kunci privat untuk dekripsi\n",
    "\n",
    "# Tampilkan e dan n secara eksplisit (bisa dipakai untuk ujicoba manual)\n",
    "print(\"e =\", e)\n",
    "print(\"n =\", n)\n"
   ]
  },
  {
   "cell_type": "code",
   "execution_count": 41,
   "id": "c85aa42d",
   "metadata": {},
   "outputs": [
    {
     "name": "stdout",
     "output_type": "stream",
     "text": [
      "Plaintext: kriptografi SA 2025 daffa dimas nova\n",
      "ASCII: [107, 114, 105, 112, 116, 111, 103, 114, 97, 102, 105, 32, 83, 65, 32, 50, 48, 50, 53, 32, 100, 97, 102, 102, 97, 32, 100, 105, 109, 97, 115, 32, 110, 111, 118, 97]\n",
      "Ciphertext: [8070, 24155, 5370, 1243, 24949, 24374, 12024, 24155, 21781, 16187, 5370, 25853, 4707, 26029, 25853, 18815, 24367, 18815, 7011, 25853, 5004, 21781, 16187, 16187, 21781, 25853, 5004, 5370, 5842, 21781, 3753, 25853, 20961, 24374, 15067, 21781]\n"
     ]
    }
   ],
   "source": [
    "# Plaintext yang akan dienkripsi (bisa diubah sesuai kebutuhan)\n",
    "plaintext = \"kriptografi SA 2025 daffa dimas nova\"\n",
    "\n",
    "# Ubah setiap karakter menjadi nilai ASCII\n",
    "ascii_values = [ord(char) for char in plaintext]\n",
    "\n",
    "# Enkripsi dengan rumus RSA: c = m^e mod n\n",
    "ciphertext = [pow(m, e, n) for m in ascii_values]\n",
    "\n",
    "# Tampilkan hasil enkripsi\n",
    "print(\"Plaintext:\", plaintext)\n",
    "print(\"ASCII:\", ascii_values)\n",
    "print(\"Ciphertext:\", ciphertext)\n"
   ]
  },
  {
   "cell_type": "code",
   "execution_count": 42,
   "id": "d433c04e",
   "metadata": {},
   "outputs": [
    {
     "name": "stdout",
     "output_type": "stream",
     "text": [
      "Hasil Dekripsi: kriptografi SA 2025 daffa dimas nova\n"
     ]
    }
   ],
   "source": [
    "# Dekripsi setiap nilai ciphertext dengan rumus: m = c^d mod n\n",
    "decrypted_ascii = [pow(c, d, n) for c in ciphertext]\n",
    "\n",
    "# Ubah kembali nilai ASCII menjadi karakter asli\n",
    "decrypted_text = ''.join(chr(c) for c in decrypted_ascii)\n",
    "\n",
    "# Tampilkan hasil dekripsi\n",
    "print(\"Hasil Dekripsi:\", decrypted_text)\n"
   ]
  }
 ],
 "metadata": {
  "kernelspec": {
   "display_name": ".venv",
   "language": "python",
   "name": "python3"
  },
  "language_info": {
   "codemirror_mode": {
    "name": "ipython",
    "version": 3
   },
   "file_extension": ".py",
   "mimetype": "text/x-python",
   "name": "python",
   "nbconvert_exporter": "python",
   "pygments_lexer": "ipython3",
   "version": "3.13.1"
  }
 },
 "nbformat": 4,
 "nbformat_minor": 5
}

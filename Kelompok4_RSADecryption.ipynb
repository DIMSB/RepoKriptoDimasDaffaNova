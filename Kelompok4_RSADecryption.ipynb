{
 "cells": [
  {
   "cell_type": "markdown",
   "id": "906b3dcc",
   "metadata": {},
   "source": [
    "# 🔓 RSA Decryption – Kelompok 4\n",
    "\n",
    "Notebook ini menjelaskan proses dekripsi dalam algoritma RSA.\n",
    "\n",
    "**Langkah-langkah utama:**\n",
    "1. Siapkan ciphertext dan kunci privat (d, n)\n",
    "2. Gunakan rumus dekripsi:\n",
    "   \\[\n",
    "   m = c^d \\mod n\n",
    "   \\]\n",
    "3. Ubah hasil dekripsi (angka ASCII) menjadi teks (jika plaintext awal berupa string)\n"
   ]
  },
  {
   "cell_type": "code",
   "execution_count": 50,
   "id": "c30ccb73",
   "metadata": {},
   "outputs": [],
   "source": [
    "# Import modul yang dibutuhkan\n",
    "from sympy import isprime, mod_inverse  # Untuk cek bilangan prima dan menghitung invers modulo\n",
    "import random  # Untuk generate angka acak\n",
    "\n",
    "# === Fungsi untuk menghasilkan bilangan prima acak sebanyak 'bits' bit ===\n",
    "def generate_prime(bits=8):\n",
    "    while True:\n",
    "        # Generate angka acak dari rentang 2^(bits-1) sampai 2^bits - 1\n",
    "        num = random.randint(2**(bits-1), 2**bits - 1)\n",
    "        # Jika angka tersebut adalah prima, kembalikan hasilnya\n",
    "        if isprime(num):\n",
    "            return num"
   ]
  },
  {
   "cell_type": "code",
   "execution_count": 51,
   "id": "8677aa2b",
   "metadata": {},
   "outputs": [],
   "source": [
    "# === Generate dua bilangan prima acak p dan q ===\n",
    "p = generate_prime()  # bilangan prima pertama\n",
    "q = generate_prime()  # bilangan prima kedua\n",
    "\n",
    "# Pastikan p dan q tidak sama\n",
    "while q == p:\n",
    "    q = generate_prime()\n"
   ]
  },
  {
   "cell_type": "code",
   "execution_count": 52,
   "id": "001a55aa",
   "metadata": {},
   "outputs": [],
   "source": [
    "# === Hitung n dan phi(n) ===\n",
    "n = p * q              # n adalah hasil perkalian p dan q, digunakan sebagai modulus\n",
    "phi = (p - 1) * (q - 1)  # phi(n) = (p-1)*(q-1), diperlukan untuk hitung kunci privat"
   ]
  },
  {
   "cell_type": "code",
   "execution_count": 53,
   "id": "13d253b1",
   "metadata": {},
   "outputs": [],
   "source": [
    "# === Pilih nilai e dan hitung d ===\n",
    "e = 3  # inisialisasi e dengan nilai kecil ganjil\n",
    "while True:\n",
    "    try:\n",
    "        # Mencari d yang merupakan invers dari e modulo phi\n",
    "        d = mod_inverse(e, phi)\n",
    "        break  # jika berhasil, keluar dari loop\n",
    "    except:\n",
    "        e += 2  # jika gagal, coba nilai e selanjutnya (harus coprime dengan phi)"
   ]
  },
  {
   "cell_type": "code",
   "execution_count": 54,
   "id": "17391cc5",
   "metadata": {},
   "outputs": [
    {
     "name": "stdout",
     "output_type": "stream",
     "text": [
      "Bilangan prima p: 239\n",
      "Bilangan prima q: 137\n",
      "Modulus n: 32743\n",
      "Phi(n): 32368\n",
      "Kunci publik (e, n): (3, 32743)\n",
      "Kunci privat (d, n): (21579, 32743)\n"
     ]
    }
   ],
   "source": [
    "# === Tampilkan hasil generate kunci ===\n",
    "print(\"Bilangan prima p:\", p)               # tampilkan nilai p\n",
    "print(\"Bilangan prima q:\", q)               # tampilkan nilai q\n",
    "print(\"Modulus n:\", n)                      # tampilkan nilai n\n",
    "print(\"Phi(n):\", phi)                       # tampilkan nilai phi(n)\n",
    "print(\"Kunci publik (e, n):\", (e, n))       # tampilkan pasangan kunci publik\n",
    "print(\"Kunci privat (d, n):\", (d, n))       # tampilkan pasangan kunci privat"
   ]
  },
  {
   "cell_type": "code",
   "execution_count": 55,
   "id": "60f6882d",
   "metadata": {},
   "outputs": [],
   "source": [
    "# === Input plaintext yang ingin dienkripsi ===\n",
    "teks_plain = \"Halo, ini untuk tugas dekripsi RSA daffa dimas nova\"  # ubah teks ini jika ingin coba teks lain\n",
    "ascii_plain = [ord(c) for c in teks_plain]  # ubah setiap karakter menjadi kode ASCII"
   ]
  },
  {
   "cell_type": "code",
   "execution_count": 56,
   "id": "9f851482",
   "metadata": {},
   "outputs": [
    {
     "name": "stdout",
     "output_type": "stream",
     "text": [
      "Plaintext: Halo, ini untuk tugas dekripsi RSA daffa dimas nova\n",
      "ASCII plaintext: [72, 97, 108, 111, 44, 32, 105, 110, 105, 32, 117, 110, 116, 117, 107, 32, 116, 117, 103, 97, 115, 32, 100, 101, 107, 114, 105, 112, 115, 105, 32, 82, 83, 65, 32, 100, 97, 102, 102, 97, 32, 100, 105, 109, 97, 115, 32, 110, 111, 118, 97]\n",
      "Ciphertext: [13075, 28612, 15478, 25168, 19698, 25, 11620, 21280, 11620, 25, 29949, 21280, 21975, 29949, 13552, 25, 21975, 29949, 12208, 28612, 14697, 25, 17710, 15268, 13552, 8109, 11620, 29722, 14697, 11620, 25, 27480, 15156, 12681, 25, 17710, 28612, 13432, 13432, 28612, 25, 17710, 11620, 18052, 28612, 14697, 25, 21280, 25168, 5882, 28612]\n"
     ]
    }
   ],
   "source": [
    "# === Enkripsi plaintext menjadi ciphertext ===\n",
    "# Rumus: c = m^e mod n untuk setiap karakter m\n",
    "ciphertext = [pow(m, e, n) for m in ascii_plain]\n",
    "\n",
    "# Tampilkan hasil enkripsi\n",
    "print(\"Plaintext:\", teks_plain)                 # tampilkan teks asli\n",
    "print(\"ASCII plaintext:\", ascii_plain)         # tampilkan dalam bentuk ASCII\n",
    "print(\"Ciphertext:\", ciphertext)               # tampilkan hasil enkripsi"
   ]
  },
  {
   "cell_type": "code",
   "execution_count": 57,
   "id": "d42d504c",
   "metadata": {},
   "outputs": [
    {
     "name": "stdout",
     "output_type": "stream",
     "text": [
      "ASCII hasil dekripsi: [72, 97, 108, 111, 44, 32, 105, 110, 105, 32, 117, 110, 116, 117, 107, 32, 116, 117, 103, 97, 115, 32, 100, 101, 107, 114, 105, 112, 115, 105, 32, 82, 83, 65, 32, 100, 97, 102, 102, 97, 32, 100, 105, 109, 97, 115, 32, 110, 111, 118, 97]\n",
      "Plaintext hasil dekripsi: Halo, ini untuk tugas dekripsi RSA daffa dimas nova\n"
     ]
    }
   ],
   "source": [
    "# === Dekripsi ciphertext menjadi plaintext kembali ===\n",
    "# Rumus: m = c^d mod n untuk setiap karakter c\n",
    "ascii_decrypted = [pow(c, d, n) for c in ciphertext]\n",
    "\n",
    "# Ubah kode ASCII hasil dekripsi ke karakter\n",
    "plaintext_decrypted = ''.join(chr(m) for m in ascii_decrypted)\n",
    "\n",
    "# Tampilkan hasil dekripsi\n",
    "print(\"ASCII hasil dekripsi:\", ascii_decrypted)       # tampilkan hasil dekripsi dalam ASCII\n",
    "print(\"Plaintext hasil dekripsi:\", plaintext_decrypted)  # tampilkan teks asli hasil dekripsi"
   ]
  }
 ],
 "metadata": {
  "kernelspec": {
   "display_name": ".venv",
   "language": "python",
   "name": "python3"
  },
  "language_info": {
   "codemirror_mode": {
    "name": "ipython",
    "version": 3
   },
   "file_extension": ".py",
   "mimetype": "text/x-python",
   "name": "python",
   "nbconvert_exporter": "python",
   "pygments_lexer": "ipython3",
   "version": "3.13.1"
  }
 },
 "nbformat": 4,
 "nbformat_minor": 5
}

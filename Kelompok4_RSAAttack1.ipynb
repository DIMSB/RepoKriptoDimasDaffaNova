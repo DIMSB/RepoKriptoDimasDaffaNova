{
 "cells": [
  {
   "cell_type": "markdown",
   "id": "ba212585",
   "metadata": {},
   "source": [
    "# 🔓 RSA Attack Level 1 – Kelompok 4\n",
    "\n",
    "Notebook ini menunjukkan bagaimana RSA bisa diserang jika modulus `n` terlalu kecil.\n",
    "\n",
    "Langkah serangan:\n",
    "1. Faktorkan `n` menjadi `p` dan `q`\n",
    "2. Hitung `phi(n)`\n",
    "3. Hitung `d = mod_inverse(e, phi)`\n",
    "4. Dekripsi ciphertext dengan `m = c^d mod n`\n",
    "\n",
    "Asumsi: penyerang hanya tahu `e`, `n`, dan `ciphertext`\n"
   ]
  },
  {
   "cell_type": "code",
   "execution_count": 1,
   "id": "6df17625",
   "metadata": {},
   "outputs": [
    {
     "name": "stdout",
     "output_type": "stream",
     "text": [
      "Bilangan prima p: 149\n",
      "Bilangan prima q: 211\n",
      "Modulus n: 31439\n",
      "phi(n): 31080\n",
      "\n",
      "Kunci publik (e, n): (3013, 31439)\n",
      "Kunci privat (d, n): (18877, 31439)\n",
      "\n",
      "Plaintext: Attack Level 1 RSA Daffa Dimas Nova\n",
      "ASCII plaintext: [65, 116, 116, 97, 99, 107, 32, 76, 101, 118, 101, 108, 32, 49, 32, 82, 83, 65, 32, 68, 97, 102, 102, 97, 32, 68, 105, 109, 97, 115, 32, 78, 111, 118, 97]\n",
      "Ciphertext: [12774, 31403, 31403, 3052, 6969, 7573, 8478, 4738, 23390, 14209, 23390, 29073, 8478, 6561, 8478, 27033, 15326, 12774, 8478, 3629, 3052, 7052, 7052, 3052, 8478, 3629, 20518, 4975, 3052, 3996, 8478, 22126, 10822, 14209, 3052]\n"
     ]
    }
   ],
   "source": [
    "# Import library yang diperlukan\n",
    "from sympy import isprime, mod_inverse, gcd\n",
    "from math import isqrt\n",
    "import random\n",
    "\n",
    "# Fungsi untuk menghasilkan bilangan prima acak\n",
    "def generate_prime(bits=8):\n",
    "    while True:\n",
    "        num = random.randint(2**(bits - 1), 2**bits - 1)  # Angka acak dalam bit tertentu\n",
    "        if isprime(num):\n",
    "            return num\n",
    "\n",
    "# Fungsi faktorisasi n menjadi p dan q (brute force untuk n kecil)\n",
    "def factor_n(n):\n",
    "    for i in range(2, isqrt(n) + 1):\n",
    "        if n % i == 0:\n",
    "            p = i\n",
    "            q = n // i\n",
    "            if isprime(p) and isprime(q):\n",
    "                return p, q\n",
    "    return None, None\n",
    "\n",
    "# ===== Generate p dan q secara acak =====\n",
    "p = generate_prime()\n",
    "q = generate_prime()\n",
    "while q == p:  # Pastikan p dan q berbeda\n",
    "    q = generate_prime()\n",
    "\n",
    "n = p * q                     # Modulus n\n",
    "phi = (p - 1) * (q - 1)       # Euler's totient\n",
    "\n",
    "# ===== Generate e secara acak, pastikan gcd(e, phi) == 1 =====\n",
    "while True:\n",
    "    e = random.randrange(3, phi, 2)  # Pilih e ganjil\n",
    "    if gcd(e, phi) == 1:\n",
    "        break\n",
    "\n",
    "# ===== Hitung kunci privat d =====\n",
    "d = mod_inverse(e, phi)\n",
    "\n",
    "# Tampilkan kunci RSA\n",
    "print(\"Bilangan prima p:\", p)\n",
    "print(\"Bilangan prima q:\", q)\n",
    "print(\"Modulus n:\", n)\n",
    "print(\"phi(n):\", phi)\n",
    "print(\"\\nKunci publik (e, n):\", (e, n))\n",
    "print(\"Kunci privat (d, n):\", (d, n))\n",
    "\n",
    "# ===== Simulasi korban: enkripsi pesan =====\n",
    "plaintext = \"Attack Level 1 RSA Daffa Dimas Nova\"\n",
    "ascii_plain = [ord(c) for c in plaintext]\n",
    "ciphertext = [pow(m, e, n) for m in ascii_plain]\n",
    "print(\"\\nPlaintext:\", plaintext)\n",
    "print(\"ASCII plaintext:\", ascii_plain)\n",
    "print(\"Ciphertext:\", ciphertext)\n",
    "\n",
    "# ===== Simulasi penyerang: faktorisasi n dan dekripsi =====\n",
    "p_, q_ = factor_n(n)\n",
    "if not p_ or not q_:\n",
    "    raise ValueError(\"Gagal faktorisasi n. Mungkin n terlalu besar untuk brute force.\")\n",
    "\n",
    "phi_ = (p_ - 1) * (q_ - 1)\n",
    "d_ = mod_inverse(e, phi_)\n",
    "decrypted_ascii = [pow(c, d_, n) for c in ciphertext]\n",
    "\n",
    "try:\n",
    "    decrypted_text = ''.join(chr(c) for c in decrypted_ascii)\n",
    "except ValueError:\n",
    "    decrypted_text = \"[Beberapa karakter ASCII tidak valid]\""
   ]
  },
  {
   "cell_type": "code",
   "execution_count": 2,
   "id": "38035eac",
   "metadata": {},
   "outputs": [
    {
     "name": "stdout",
     "output_type": "stream",
     "text": [
      "Faktorisasi n → p: 149 q: 211\n",
      "phi(n): 31080\n",
      "d (private key): 18877\n",
      "\n",
      "Hasil dekripsi (ASCII): [65, 116, 116, 97, 99, 107, 32, 76, 101, 118, 101, 108, 32, 49, 32, 82, 83, 65, 32, 68, 97, 102, 102, 97, 32, 68, 105, 109, 97, 115, 32, 78, 111, 118, 97]\n",
      "Plaintext: Attack Level 1 RSA Daffa Dimas Nova\n"
     ]
    }
   ],
   "source": [
    "# Tampilkan hasil dari proses serangan\n",
    "print(\"Faktorisasi n → p:\", p, \"q:\", q)\n",
    "print(\"phi(n):\", phi)\n",
    "print(\"d (private key):\", d)\n",
    "print(\"\\nHasil dekripsi (ASCII):\", decrypted_ascii)\n",
    "print(\"Plaintext:\", decrypted_text)\n"
   ]
  },
  {
   "cell_type": "markdown",
   "id": "f357316d",
   "metadata": {},
   "source": [
    "## ✅ Kesimpulan\n",
    "\n",
    "RSA Attack Level 1 berhasil dilakukan karena ukuran `n` kecil, sehingga faktorisasi bisa dilakukan secara langsung.\n",
    "\n",
    "**Rekomendasi keamanan:**\n",
    "- Gunakan modulus `n` minimal 2048-bit\n",
    "- Hindari `e`, `n` kecil untuk penggunaan nyata\n",
    "\n",
    "RSA hanya aman jika parameter dibuat dengan benar.\n"
   ]
  }
 ],
 "metadata": {
  "kernelspec": {
   "display_name": ".venv",
   "language": "python",
   "name": "python3"
  },
  "language_info": {
   "codemirror_mode": {
    "name": "ipython",
    "version": 3
   },
   "file_extension": ".py",
   "mimetype": "text/x-python",
   "name": "python",
   "nbconvert_exporter": "python",
   "pygments_lexer": "ipython3",
   "version": "3.13.1"
  }
 },
 "nbformat": 4,
 "nbformat_minor": 5
}

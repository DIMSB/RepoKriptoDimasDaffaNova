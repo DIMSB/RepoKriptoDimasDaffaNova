{
 "cells": [
  {
   "cell_type": "markdown",
   "id": "f4cf0ae9",
   "metadata": {},
   "source": [
    "# 🔓 RSA Attack Level 3 – Reuse of Public Key with Small e\n",
    "\n",
    "Serangan ini terjadi ketika **pesan yang sama** dienkripsi ke beberapa penerima berbeda menggunakan eksponen kecil (e = 3). Jika `m^e < n1*n2*n3`, attacker bisa menggabungkan ciphertext dan mengambil akar ke-e untuk mendapatkan plaintext **tanpa private key**.\n",
    "\n",
    "📌 Teknik: Håstad’s Broadcast Attack + Chinese Remainder Theorem\n",
    "\n",
    "✅ Syarat:\n",
    "- e = 3\n",
    "- 3 modulus berbeda (coprime)\n",
    "- Pesan yang sama (tanpa padding)\n",
    "\n",
    "🎯 Tujuan: Mendapatkan plaintext dari ciphertext gabungan.\n"
   ]
  },
  {
   "cell_type": "code",
   "execution_count": 11,
   "id": "19a5e5a4",
   "metadata": {},
   "outputs": [],
   "source": [
    "from Crypto.Util.number import getPrime, bytes_to_long, long_to_bytes  # Library untuk bilangan prima dan konversi teks-angka\n",
    "from functools import reduce                                           # Untuk perkalian semua elemen list (CRT)\n",
    "import gmpy2                                                           # Library matematika cepat (akar, mod inverse, dsb.)\n",
    "\n",
    "# Fungsi Chinese Remainder Theorem (gabungkan beberapa ciphertext dengan modulus berbeda)\n",
    "def crt(c_list, n_list):\n",
    "    N = reduce(lambda a, b: a * b, n_list)  # N adalah hasil kali semua modulus\n",
    "    total = 0                               # Inisialisasi hasil\n",
    "    for c_i, n_i in zip(c_list, n_list):    # Iterasi setiap pasangan ciphertext dan modulus\n",
    "        m_i = N // n_i                      # Hitung bagian modulus lain\n",
    "        inv = gmpy2.invert(m_i, n_i)        # Hitung invers modulo\n",
    "        total += c_i * m_i * inv            # Tambahkan kontribusi dari pasangan tersebut\n",
    "    return total % N                        # Modulo dengan N untuk hasil akhir CRT\n"
   ]
  },
  {
   "cell_type": "code",
   "execution_count": 12,
   "id": "a6483965",
   "metadata": {},
   "outputs": [],
   "source": [
    "# Plaintext yang akan dienkripsi (bisa disesuaikan)\n",
    "plaintext = b\"Daffa Dimas Nova\"              # Plaintext dalam bentuk byte\n",
    "m = bytes_to_long(plaintext)                 # Konversi plaintext menjadi integer\n",
    "e = 3                                        # Eksponen publik kecil (vulnerable jika reuse)\n",
    "\n",
    "# Fungsi untuk membuat modulus n = p × q dengan panjang 512-bit\n",
    "def generate_modulus(bits=512):\n",
    "    return getPrime(bits) * getPrime(bits)   # Ambil dua bilangan prima acak dan kalikan\n",
    "\n"
   ]
  },
  {
   "cell_type": "code",
   "execution_count": 13,
   "id": "5714d64c",
   "metadata": {},
   "outputs": [],
   "source": [
    "n_list = [generate_modulus() for _ in range(3)]  # Buat 3 modulus RSA berbeda\n",
    "c_list = [pow(m, e, n) for n in n_list]          # Enkripsi pesan yang sama dengan e yang sama\n",
    "\n",
    "c_combined = crt(c_list, n_list)                 # Gabungkan ciphertext dengan CRT\n",
    "\n",
    "# Ambil akar pangkat 3 dari hasil CRT → tujuannya untuk membalik m^e menjadi m\n",
    "recovered_m, exact = gmpy2.iroot(c_combined, e)  # iroot mengembalikan akar dan flag \"exact\"\n",
    "recovered_text = long_to_bytes(recovered_m)      # Konversi integer kembali ke bentuk teks\n"
   ]
  },
  {
   "cell_type": "code",
   "execution_count": 14,
   "id": "014885dd",
   "metadata": {},
   "outputs": [
    {
     "name": "stdout",
     "output_type": "stream",
     "text": [
      "===== Attack 3: Reuse Public Key with Small e (gmpy2) =====\n",
      "Modulus n1 = 94448915305838991146332311792037526830549535233715395810857276104996565008448574863188786028170501595796123811061666398492475965379294999501459885488435873638503980525968837859509693004918068293595369754015980001892653343797527441404366933174918137830913329778012402217435734132935864876973569145327076985231\n",
      "Ciphertext c1 = 750921708733871343535259110877586015283603368964208968626728870807915851311530807651019564503018616501443749334817\n",
      "Modulus n2 = 171085485453507842172130331277917009885556241292156675457013854785365102914764329647340473881314931572823721920085165530443986212779623136631226231755148370822191317081191606742964222305846276585891529677017760549457820925397859873323799823645948296657206076774127476005386040312581164886959895546841770997617\n",
      "Ciphertext c2 = 750921708733871343535259110877586015283603368964208968626728870807915851311530807651019564503018616501443749334817\n",
      "Modulus n3 = 97008429514561009889154642429191163376578002254544569171604807349413533484279368615537916375257130349841563849422978712899570454210053399817954212239318543569372295901807964624282283806090621294814443593536816388565018948565347361827607584658214130462082559888268343010017268499516367084214759103947785259317\n",
      "Ciphertext c3 = 750921708733871343535259110877586015283603368964208968626728870807915851311530807651019564503018616501443749334817\n",
      "\n",
      "Hasil gabungan CRT: 750921708733871343535259110877586015283603368964208968626728870807915851311530807651019564503018616501443749334817\n",
      "Akar pangkat 3 (recovered m): 90893233425763361207380825484850853473\n",
      "Teks hasil dekripsi: 'Daffa Dimas Nova'\n",
      "Berhasil? True\n"
     ]
    }
   ],
   "source": [
    "print(\"===== Attack 3: Reuse Public Key with Small e (gmpy2) =====\")\n",
    "for i in range(3):\n",
    "    print(f\"Modulus n{i+1} = {n_list[i]}\")          # Cetak setiap modulus\n",
    "    print(f\"Ciphertext c{i+1} = {c_list[i]}\")       # Cetak setiap ciphertext\n",
    "\n",
    "print(\"\\nHasil gabungan CRT:\", c_combined)          # Cetak hasil CRT\n",
    "print(f\"Akar pangkat 3 (recovered m): {recovered_m}\") # Cetak integer hasil dekripsi\n",
    "print(f\"Teks hasil dekripsi: '{recovered_text.decode()}'\")  # Konversi ke string dan tampilkan\n",
    "print(f\"Berhasil? {recovered_text == plaintext}\")    # Verifikasi apakah hasil sama dengan plaintext awal\n"
   ]
  }
 ],
 "metadata": {
  "kernelspec": {
   "display_name": ".venv",
   "language": "python",
   "name": "python3"
  },
  "language_info": {
   "codemirror_mode": {
    "name": "ipython",
    "version": 3
   },
   "file_extension": ".py",
   "mimetype": "text/x-python",
   "name": "python",
   "nbconvert_exporter": "python",
   "pygments_lexer": "ipython3",
   "version": "3.13.1"
  }
 },
 "nbformat": 4,
 "nbformat_minor": 5
}
